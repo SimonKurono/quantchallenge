{
 "cells": [
  {
   "cell_type": "markdown",
   "id": "f565c271",
   "metadata": {},
   "source": [
    "**Imports**"
   ]
  },
  {
   "cell_type": "code",
   "execution_count": 57,
   "id": "eb8fb832",
   "metadata": {},
   "outputs": [],
   "source": [
    "import xgboost as xgb\n",
    "from xgboost import XGBRegressor\n",
    "\n",
    "import sklearn as sk\n",
    "import numpy as np\n",
    "import pandas as pd\n",
    "\n",
    "import matplotlib.pyplot as plt\n",
    "import seaborn as sns\n",
    "\n",
    "from sklearn.model_selection import train_test_split, cross_val_score, KFold, TimeSeriesSplit\n",
    "from sklearn.metrics import r2_score, mean_squared_error\n",
    "\n",
    "import shap\n",
    "import warnings\n",
    "\n"
   ]
  },
  {
   "cell_type": "markdown",
   "id": "b541e2e1",
   "metadata": {},
   "source": [
    "**Load Data**"
   ]
  },
  {
   "cell_type": "code",
   "execution_count": 58,
   "id": "d0fb50d7",
   "metadata": {},
   "outputs": [
    {
     "name": "stdout",
     "output_type": "stream",
     "text": [
      "   time         A         B         C         D         E         F         G  \\\n",
      "0     0  0.207366 -0.159951 -0.634176 -0.580962 -0.266505  0.060173 -0.475257   \n",
      "1     1  0.188828 -0.265508  0.042143 -0.550442 -0.132319 -0.185219  0.028295   \n",
      "2     2 -0.144261 -0.577142 -0.214634 -0.747391 -0.184255 -0.464831 -0.085181   \n",
      "3     3  0.208982 -0.310449  0.513708 -0.562868  0.742308 -0.305487  0.762246   \n",
      "4     4  0.093320 -0.358156  0.173188 -0.687296 -0.161461 -0.116062 -0.245748   \n",
      "\n",
      "          H         I         J         K         L         M         N  \\\n",
      "0 -1.486516 -0.332594 -0.671466 -0.226149 -0.187624 -0.780237 -0.785965   \n",
      "1  0.093210 -0.518139 -0.251917 -0.347845 -0.359069 -0.161254  0.020401   \n",
      "2  0.700449 -0.603438  0.197773 -0.566696 -0.580799  0.202726  0.135261   \n",
      "3  1.363020 -0.384575  0.525556 -0.348514 -0.428099  0.548993  0.471031   \n",
      "4  0.863372 -0.655588 -0.263358 -0.557428 -0.481214  0.083602  0.003087   \n",
      "\n",
      "         Y1        Y2  \n",
      "0 -0.935902 -0.310081  \n",
      "1 -0.089707 -0.305374  \n",
      "2 -0.077855 -0.631485  \n",
      "3  0.941271 -0.535212  \n",
      "4 -0.039582 -0.490561  \n",
      "   id   time         A         B         C         D         E         F  \\\n",
      "0   1  80005 -0.371888 -0.273485  0.538326 -0.377691  1.283159 -0.286957   \n",
      "1   2  80006 -0.459598 -0.514915 -0.235153 -0.262379  0.044343 -0.429888   \n",
      "2   3  80007 -0.381609 -0.265023 -0.629131 -0.186288 -0.146302 -0.357875   \n",
      "3   4  80008 -0.371423 -0.106279 -1.142702 -0.200429 -0.176918 -0.354048   \n",
      "4   5  80009 -0.309393 -0.015144 -1.099371 -0.405841 -0.239068 -0.403306   \n",
      "\n",
      "          G         H         I         J         K         L         M  \\\n",
      "0  0.439415  0.020831 -0.295480  0.117643 -0.369900 -0.378902  0.470166   \n",
      "1 -0.059034 -0.725713 -0.407681 -0.255702 -0.461901 -0.249516 -0.216745   \n",
      "2  0.114223 -0.359341 -0.190712 -0.404083 -0.272153 -0.193158 -0.679351   \n",
      "3 -0.230199 -0.305226  0.185342 -0.333010  0.518678 -0.028775 -0.610620   \n",
      "4 -0.983134 -1.067315 -0.105132 -0.809948  0.185197 -0.150254 -1.080190   \n",
      "\n",
      "          N  \n",
      "0  0.411796  \n",
      "1 -0.328599  \n",
      "2 -0.476331  \n",
      "3 -0.846772  \n",
      "4 -0.685936  \n"
     ]
    }
   ],
   "source": [
    "train_data = pd.read_csv('./data/train.csv')\n",
    "test_data = pd.read_csv('./data/test.csv')\n",
    "\n",
    "print(train_data.head())\n",
    "print(test_data.head())\n",
    "\n",
    "FEATURES = [col for col in train_data.columns if col in list(\"ABCDEFGHIJKLMN\")]\n",
    "TARGET = [\"Y1\", \"Y2\"]\n",
    "\n",
    "X = train_data[FEATURES].copy()\n",
    "y1 = train_data[\"Y1\"].copy()\n",
    "y2 = train_data[\"Y2\"].copy()\n",
    "X_test = test_data[FEATURES].copy()\n",
    "\n"
   ]
  },
  {
   "cell_type": "markdown",
   "id": "b2cf184e",
   "metadata": {},
   "source": [
    "**Models**"
   ]
  },
  {
   "cell_type": "code",
   "execution_count": 59,
   "id": "cb48a536",
   "metadata": {},
   "outputs": [],
   "source": [
    "#Make XGBRegressor model\n",
    "def make_xgbregressor():\n",
    "    return XGBRegressor(\n",
    "        n_estimators=1000,\n",
    "        learning_rate=0.03,\n",
    "        max_depth=6,\n",
    "        subsample=0.8,\n",
    "        colsample_bytree=0.8,\n",
    "        reg_lambda=1,\n",
    "        reg_alpha=0,\n",
    "        objective='reg:squarederror',\n",
    "        tree_method='hist',\n",
    "        random_state=42,\n",
    "        n_jobs=-1,\n",
    "        verbosity=2,\n",
    "        eval_metric='rmse',\n",
    "        early_stopping_rounds=100\n",
    "    )\n"
   ]
  },
  {
   "cell_type": "markdown",
   "id": "f14142cf",
   "metadata": {},
   "source": [
    "**Train the model**"
   ]
  },
  {
   "cell_type": "code",
   "execution_count": 60,
   "id": "3a4d956f",
   "metadata": {},
   "outputs": [],
   "source": [
    "def train_model(X, y, X_test, cv, make_model_fn):\n",
    "    oof = np.zeros(len(X))\n",
    "    test_fold_preds = []\n",
    "\n",
    "    for fold, (train, val) in enumerate(cv.split(X)):\n",
    "        X_train, X_val = X.iloc[train], X.iloc[val]\n",
    "        y_train, y_val = y.iloc[train], y.iloc[val]\n",
    "\n",
    "        model=make_model_fn()\n",
    "\n",
    "        model.fit(\n",
    "            X_train,\n",
    "            y_train,\n",
    "            eval_set=[(X_val, y_val)],\n",
    "            verbose=False\n",
    "        )\n",
    "\n",
    "        oof[val] = model.predict(X_val)\n",
    "\n",
    "        test_fold_preds.append(model.predict(X_test))\n",
    "\n",
    "        print(f\"fold {fold+1} R^2: {r2_score(y_val, oof[val]):.4f}\")\n",
    "        cv_r2 = r2_score(y, oof)\n",
    "        print(f\"CV R^2: {cv_r2:.4f}\")\n",
    "\n",
    "        test_pred = np.mean(test_fold_preds, axis=0)\n",
    "\n",
    "    return oof, test_pred"
   ]
  },
  {
   "cell_type": "markdown",
   "id": "51a2b5da",
   "metadata": {},
   "source": [
    "**Defining Folds**"
   ]
  },
  {
   "cell_type": "code",
   "execution_count": 61,
   "id": "0f441b7a",
   "metadata": {},
   "outputs": [],
   "source": [
    "#Time series cross validation\n",
    "tscv = TimeSeriesSplit(n_splits=5) \n",
    "\n",
    "#Kfold\n",
    "kf = KFold(n_splits=5, shuffle=True, random_state=42)"
   ]
  },
  {
   "cell_type": "markdown",
   "id": "ee5b3c12",
   "metadata": {},
   "source": [
    "**Running the model**"
   ]
  },
  {
   "cell_type": "code",
   "execution_count": 62,
   "id": "69025e09",
   "metadata": {},
   "outputs": [
    {
     "name": "stdout",
     "output_type": "stream",
     "text": [
      "[19:16:55] INFO: /Users/runner/work/xgboost/xgboost/src/data/iterative_dmatrix.cc:53: Finished constructing the `IterativeDMatrix`: (13335, 14, 186690).\n",
      "[19:16:55] INFO: /Users/runner/work/xgboost/xgboost/src/data/iterative_dmatrix.cc:53: Finished constructing the `IterativeDMatrix`: (13333, 14, 186662).\n",
      "fold 1 R^2: 0.7343\n",
      "CV R^2: 0.0527\n",
      "[19:16:55] INFO: /Users/runner/work/xgboost/xgboost/src/data/iterative_dmatrix.cc:53: Finished constructing the `IterativeDMatrix`: (26668, 14, 373352).\n",
      "[19:16:55] INFO: /Users/runner/work/xgboost/xgboost/src/data/iterative_dmatrix.cc:53: Finished constructing the `IterativeDMatrix`: (13333, 14, 186662).\n",
      "fold 2 R^2: 0.6866\n",
      "CV R^2: 0.1307\n",
      "[19:16:55] INFO: /Users/runner/work/xgboost/xgboost/src/data/iterative_dmatrix.cc:53: Finished constructing the `IterativeDMatrix`: (40001, 14, 560014).\n",
      "[19:16:55] INFO: /Users/runner/work/xgboost/xgboost/src/data/iterative_dmatrix.cc:53: Finished constructing the `IterativeDMatrix`: (13333, 14, 186662).\n",
      "fold 3 R^2: 0.7630\n",
      "CV R^2: 0.2807\n",
      "[19:16:56] INFO: /Users/runner/work/xgboost/xgboost/src/data/iterative_dmatrix.cc:53: Finished constructing the `IterativeDMatrix`: (53334, 14, 746676).\n",
      "[19:16:56] INFO: /Users/runner/work/xgboost/xgboost/src/data/iterative_dmatrix.cc:53: Finished constructing the `IterativeDMatrix`: (13333, 14, 186662).\n",
      "fold 4 R^2: 0.7667\n",
      "CV R^2: 0.4262\n",
      "[19:16:57] INFO: /Users/runner/work/xgboost/xgboost/src/data/iterative_dmatrix.cc:53: Finished constructing the `IterativeDMatrix`: (66667, 14, 933338).\n",
      "[19:16:57] INFO: /Users/runner/work/xgboost/xgboost/src/data/iterative_dmatrix.cc:53: Finished constructing the `IterativeDMatrix`: (13333, 14, 186662).\n",
      "fold 5 R^2: 0.7053\n",
      "CV R^2: 0.6344\n",
      "[19:16:57] INFO: /Users/runner/work/xgboost/xgboost/src/data/iterative_dmatrix.cc:53: Finished constructing the `IterativeDMatrix`: (13335, 14, 186690).\n",
      "[19:16:57] INFO: /Users/runner/work/xgboost/xgboost/src/data/iterative_dmatrix.cc:53: Finished constructing the `IterativeDMatrix`: (13333, 14, 186662).\n",
      "fold 1 R^2: 0.6773\n",
      "CV R^2: 0.0735\n",
      "[19:16:58] INFO: /Users/runner/work/xgboost/xgboost/src/data/iterative_dmatrix.cc:53: Finished constructing the `IterativeDMatrix`: (26668, 14, 373352).\n",
      "[19:16:58] INFO: /Users/runner/work/xgboost/xgboost/src/data/iterative_dmatrix.cc:53: Finished constructing the `IterativeDMatrix`: (13333, 14, 186662).\n",
      "fold 2 R^2: 0.6600\n",
      "CV R^2: 0.1374\n",
      "[19:16:58] INFO: /Users/runner/work/xgboost/xgboost/src/data/iterative_dmatrix.cc:53: Finished constructing the `IterativeDMatrix`: (40001, 14, 560014).\n",
      "[19:16:58] INFO: /Users/runner/work/xgboost/xgboost/src/data/iterative_dmatrix.cc:53: Finished constructing the `IterativeDMatrix`: (13333, 14, 186662).\n",
      "fold 3 R^2: 0.6995\n",
      "CV R^2: 0.2350\n",
      "[19:16:59] INFO: /Users/runner/work/xgboost/xgboost/src/data/iterative_dmatrix.cc:53: Finished constructing the `IterativeDMatrix`: (53334, 14, 746676).\n",
      "[19:16:59] INFO: /Users/runner/work/xgboost/xgboost/src/data/iterative_dmatrix.cc:53: Finished constructing the `IterativeDMatrix`: (13333, 14, 186662).\n",
      "fold 4 R^2: 0.7078\n",
      "CV R^2: 0.3303\n",
      "[19:17:01] INFO: /Users/runner/work/xgboost/xgboost/src/data/iterative_dmatrix.cc:53: Finished constructing the `IterativeDMatrix`: (66667, 14, 933338).\n",
      "[19:17:01] INFO: /Users/runner/work/xgboost/xgboost/src/data/iterative_dmatrix.cc:53: Finished constructing the `IterativeDMatrix`: (13333, 14, 186662).\n",
      "fold 5 R^2: 0.5400\n",
      "CV R^2: 0.5137\n"
     ]
    }
   ],
   "source": [
    "oof_y1, test_pred_y1 = train_model(X, y1, X_test, tscv, make_xgbregressor)\n",
    "oof_y2, test_pred_y2 = train_model(X, y2, X_test, tscv, make_xgbregressor)"
   ]
  }
 ],
 "metadata": {
  "kernelspec": {
   "display_name": "venv (3.13.7)",
   "language": "python",
   "name": "python3"
  },
  "language_info": {
   "codemirror_mode": {
    "name": "ipython",
    "version": 3
   },
   "file_extension": ".py",
   "mimetype": "text/x-python",
   "name": "python",
   "nbconvert_exporter": "python",
   "pygments_lexer": "ipython3",
   "version": "3.13.7"
  }
 },
 "nbformat": 4,
 "nbformat_minor": 5
}
